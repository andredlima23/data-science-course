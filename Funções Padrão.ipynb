{
 "cells": [
  {
   "cell_type": "code",
   "execution_count": 6,
   "id": "9eb06410",
   "metadata": {},
   "outputs": [
    {
     "name": "stdout",
     "output_type": "stream",
     "text": [
      "200\n",
      "Maior valor:  45\n",
      "Menor valor:  1\n",
      "Soma:  108\n",
      "Arredondamento:  2.35\n"
     ]
    }
   ],
   "source": [
    "# funções internas\n",
    "print(abs(-200))\n",
    "lst = [1,2,30,30,45]\n",
    "print(\"Maior valor: \", max(lst))\n",
    "print(\"Menor valor: \", min(lst))\n",
    "print(\"Soma: \", sum(lst))\n",
    "print(\"Arredondamento: \", round(2.34567,2))"
   ]
  },
  {
   "cell_type": "code",
   "execution_count": 7,
   "id": "de16179a",
   "metadata": {},
   "outputs": [
    {
     "name": "stdout",
     "output_type": "stream",
     "text": [
      "Média:  21.6\n",
      "Mediana:  30\n",
      "Moda:  30\n"
     ]
    }
   ],
   "source": [
    "# estatística\n",
    "from statistics import *\n",
    "print(\"Média: \", mean(lst))\n",
    "print(\"Mediana: \", median(lst))\n",
    "print(\"Moda: \", mode(lst))"
   ]
  },
  {
   "cell_type": "code",
   "execution_count": 5,
   "id": "3933ad75",
   "metadata": {},
   "outputs": [
    {
     "name": "stdout",
     "output_type": "stream",
     "text": [
      "Desvio Padrão:  19.346834366376324\n"
     ]
    }
   ],
   "source": [
    "# desvio padrão da amostra\n",
    "print(\"Desvio Padrão: \", stdev(lst))"
   ]
  },
  {
   "cell_type": "code",
   "execution_count": 8,
   "id": "9ff3c7fb",
   "metadata": {},
   "outputs": [
    {
     "name": "stdout",
     "output_type": "stream",
     "text": [
      "Variância:  374.3\n"
     ]
    }
   ],
   "source": [
    "# variância da amostra\n",
    "print(\"Variância: \", variance(lst))"
   ]
  },
  {
   "cell_type": "code",
   "execution_count": 9,
   "id": "eb100ec9",
   "metadata": {
    "scrolled": false
   },
   "outputs": [
    {
     "name": "stdout",
     "output_type": "stream",
     "text": [
      "<class 'numpy.ndarray'>\n",
      "[[0.08520491 0.61993446 0.08467173 0.80329497 0.36433706 0.17755045\n",
      "  0.9983302  0.110091  ]\n",
      " [0.46797301 0.33284428 0.49268677 0.90797678 0.73253556 0.61778137\n",
      "  0.97307941 0.31008749]\n",
      " [0.97852913 0.89486819 0.37104347 0.53167888 0.23056714 0.01665009\n",
      "  0.33239397 0.25218415]\n",
      " [0.14503329 0.38906454 0.88838694 0.2018555  0.33732684 0.79541388\n",
      "  0.67407092 0.06021138]\n",
      " [0.14952273 0.41865367 0.71691087 0.75284455 0.71210863 0.11631873\n",
      "  0.5197267  0.88257824]\n",
      " [0.12387091 0.96741154 0.82807395 0.05044886 0.45894308 0.15978635\n",
      "  0.69139782 0.02924523]\n",
      " [0.59551638 0.79170404 0.23652389 0.04089802 0.29118757 0.64693689\n",
      "  0.09608011 0.05489253]\n",
      " [0.21958014 0.15001352 0.87450472 0.36818511 0.02871632 0.71323553\n",
      "  0.28708284 0.29375681]]\n"
     ]
    }
   ],
   "source": [
    "from numpy import *\n",
    "a = random.random((8,8))\n",
    "print(type(a))\n",
    "print(a)"
   ]
  },
  {
   "cell_type": "code",
   "execution_count": null,
   "id": "ed846210",
   "metadata": {},
   "outputs": [],
   "source": []
  }
 ],
 "metadata": {
  "kernelspec": {
   "display_name": "Python 3 (ipykernel)",
   "language": "python",
   "name": "python3"
  },
  "language_info": {
   "codemirror_mode": {
    "name": "ipython",
    "version": 3
   },
   "file_extension": ".py",
   "mimetype": "text/x-python",
   "name": "python",
   "nbconvert_exporter": "python",
   "pygments_lexer": "ipython3",
   "version": "3.9.12"
  }
 },
 "nbformat": 4,
 "nbformat_minor": 5
}
