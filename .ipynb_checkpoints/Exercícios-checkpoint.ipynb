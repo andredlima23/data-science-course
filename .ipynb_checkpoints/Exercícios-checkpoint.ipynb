{
 "cells": [
  {
   "cell_type": "code",
   "execution_count": 13,
   "id": "8ab0e9a5",
   "metadata": {},
   "outputs": [
    {
     "name": "stdout",
     "output_type": "stream",
     "text": [
      "Amplitude:  190\n"
     ]
    }
   ],
   "source": [
    "# Faça um programa que tenha uma função chamada amplitude. A função deve receber uma lista e imprimir a amplitude.\n",
    "# Crie também um código para testar sua função\n",
    "\n",
    "from statistics import *\n",
    "\n",
    "def amplitude(vetor):\n",
    "    print(\"Amplitude: \", max(vetor) - min(vetor))\n",
    "\n",
    "vetor1 = [10,20,50,200,30]\n",
    "amplitude(vetor1)"
   ]
  },
  {
   "cell_type": "code",
   "execution_count": 14,
   "id": "a13e80ec",
   "metadata": {},
   "outputs": [
    {
     "name": "stdout",
     "output_type": "stream",
     "text": [
      "M\n",
      "a\n",
      "n\n",
      "c\n",
      "h\n",
      "e\n",
      "s\n",
      "t\n",
      "e\n",
      "r\n",
      " \n",
      "U\n",
      "n\n",
      "i\n",
      "t\n",
      "e\n",
      "d\n"
     ]
    }
   ],
   "source": [
    "# Faça uma função que receba uma string e imprima esta string na forma vertical\n",
    "def imprime(texto):\n",
    "    for i in range(0, len(texto)):\n",
    "        print(texto[i])\n",
    "        \n",
    "imprime(\"Manchester United\")"
   ]
  },
  {
   "cell_type": "code",
   "execution_count": 22,
   "id": "a4306efb",
   "metadata": {},
   "outputs": [
    {
     "name": "stdout",
     "output_type": "stream",
     "text": [
      "O transporte não é aceito.\n"
     ]
    }
   ],
   "source": [
    "'''Crie uma função que leia o peso de uma carga em números inteiros. Se o peso for até 10kg, informe que o valor será de R$50,00.\n",
    "entre 11 e 20kg, informe que o valor será de R$80,00. Se for maior que 20kg informe que o transporte não é aceito.'''\n",
    "def peso(kg):\n",
    "    if kg > 0 and kg <= 10:\n",
    "        print(\"O valor do frete é R$50,00.\")\n",
    "    elif kg > 10 and kg <= 20:\n",
    "        print(\"O valor do frete é R$80,00.\")\n",
    "    elif kg > 20:\n",
    "        print(\"O transporte não é aceito.\")\n",
    "    else:\n",
    "        print(\"Digite um número válido!\")\n",
    "        \n",
    "peso(23)"
   ]
  },
  {
   "cell_type": "code",
   "execution_count": null,
   "id": "a92f30f2",
   "metadata": {},
   "outputs": [],
   "source": []
  }
 ],
 "metadata": {
  "kernelspec": {
   "display_name": "Python 3 (ipykernel)",
   "language": "python",
   "name": "python3"
  },
  "language_info": {
   "codemirror_mode": {
    "name": "ipython",
    "version": 3
   },
   "file_extension": ".py",
   "mimetype": "text/x-python",
   "name": "python",
   "nbconvert_exporter": "python",
   "pygments_lexer": "ipython3",
   "version": "3.9.12"
  }
 },
 "nbformat": 4,
 "nbformat_minor": 5
}
